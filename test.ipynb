{
 "cells": [
  {
   "cell_type": "code",
   "execution_count": 5,
   "metadata": {},
   "outputs": [
    {
     "name": "stdout",
     "output_type": "stream",
     "text": [
      "   other_column  artists\n",
      "0             1  Artist1\n",
      "0             1  Artist2\n",
      "1             2  Artist2\n",
      "2             3  Artist1\n",
      "2             3  Artist3\n"
     ]
    }
   ],
   "source": [
    "import pandas as pd\n",
    "\n",
    "# Sample DataFrame\n",
    "# Replace this with your actual DataFrame\n",
    "data = {\n",
    "    'other_column': [1, 2, 3],  # Example of another column\n",
    "    'artists': [['Artist1', 'Artist2'], ['Artist2'], ['Artist1', 'Artist3']]\n",
    "}\n",
    "df = pd.DataFrame(data)\n",
    "\n",
    "# Explode the 'artists' column\n",
    "exploded_df = df.explode('artists')\n",
    "print(exploded_df)\n",
    "# Perform one-hot encoding\n",
    "# one_hot = pd.get_dummies(exploded_df['artists'])\n",
    "\n",
    "# # Group by the original index and sum the dummies\n",
    "# one_hot_encoded_df = one_hot.groupby(one_hot.index).sum()\n",
    "\n",
    "# # Join back with the original DataFrame\n",
    "# result_df = df.drop('artists', axis=1).join(one_hot_encoded_df)\n",
    "\n",
    "# print(result_df)"
   ]
  }
 ],
 "metadata": {
  "kernelspec": {
   "display_name": "env",
   "language": "python",
   "name": "python3"
  },
  "language_info": {
   "codemirror_mode": {
    "name": "ipython",
    "version": 3
   },
   "file_extension": ".py",
   "mimetype": "text/x-python",
   "name": "python",
   "nbconvert_exporter": "python",
   "pygments_lexer": "ipython3",
   "version": "3.11.6"
  }
 },
 "nbformat": 4,
 "nbformat_minor": 2
}
